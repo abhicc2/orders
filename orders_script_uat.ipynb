{
  "cells": [
    {
      "cell_type": "markdown",
      "metadata": {
        "id": "view-in-github",
        "colab_type": "text"
      },
      "source": [
        "<a href=\"https://colab.research.google.com/github/abhicc2/orders/blob/main/orders_script_uat.ipynb\" target=\"_parent\"><img src=\"https://colab.research.google.com/assets/colab-badge.svg\" alt=\"Open In Colab\"/></a>"
      ]
    },
    {
      "cell_type": "code",
      "execution_count": null,
      "id": "c89b1cbd-289b-4fe0-8398-1b0d433f126a",
      "metadata": {
        "id": "c89b1cbd-289b-4fe0-8398-1b0d433f126a",
        "outputId": "6ae3b72b-3b4b-4820-b767-25130d1c229d"
      },
      "outputs": [
        {
          "name": "stdout",
          "output_type": "stream",
          "text": [
            "Requirement already satisfied: mysql-connector-python in c:\\users\\abhilash00903\\appdata\\local\\programs\\python\\python312\\lib\\site-packages (8.3.0)\n",
            "Requirement already satisfied: mysql in c:\\users\\abhilash00903\\appdata\\local\\programs\\python\\python312\\lib\\site-packages (0.0.3)\n",
            "Requirement already satisfied: mysqlclient in c:\\users\\abhilash00903\\appdata\\local\\programs\\python\\python312\\lib\\site-packages (from mysql) (2.2.4)\n"
          ]
        }
      ],
      "source": [
        "! pip install mysql-connector-python\n",
        "! pip install mysql\n",
        "# ! pip install sqlalchemy\n",
        "# ! pip install pandas"
      ]
    },
    {
      "cell_type": "code",
      "execution_count": null,
      "id": "23a4f5e5-2e34-4d94-af5b-6f09a37f11ed",
      "metadata": {
        "id": "23a4f5e5-2e34-4d94-af5b-6f09a37f11ed"
      },
      "outputs": [],
      "source": [
        "import sqlalchemy as db\n",
        "from sqlalchemy import Table, MetaData,Column, String, Numeric ,select, Integer, text, func, BigInteger, Float, DateTime, Date, Double, case, literal_column\n",
        "import pandas as pd\n",
        "import datetime\n",
        "from sqlalchemy.orm import Session\n",
        "import json\n",
        "import numpy as np\n",
        "\n"
      ]
    },
    {
      "cell_type": "code",
      "execution_count": null,
      "id": "aebdf88e-6f78-4828-8afc-7e60c40c421f",
      "metadata": {
        "id": "aebdf88e-6f78-4828-8afc-7e60c40c421f"
      },
      "outputs": [],
      "source": [
        "# TODO 1: Connect to UAT Database\n",
        "\n",
        "uat_host = \"10.0.0.167\"\n",
        "uat_user=\"ccev2_walmiuat\"\n",
        "uat_password=\"Cc0v1yA$13\"\n",
        "uat_port=3306\n",
        "uat_database = \"ccev2_syslmiuat\"\n",
        "\n",
        "uat_engine = db.create_engine(f'mysql+mysqlconnector://{uat_user}:{uat_password}@{uat_host}:{uat_port}/{uat_database}',pool_size=10, max_overflow=20)\n",
        "\n",
        "uat_connection = uat_engine.connect()"
      ]
    },
    {
      "cell_type": "code",
      "execution_count": null,
      "id": "2e5b3e79-c8c1-4b4c-961b-0cf556b6f776",
      "metadata": {
        "id": "2e5b3e79-c8c1-4b4c-961b-0cf556b6f776"
      },
      "outputs": [],
      "source": [
        "metadata = MetaData()\n",
        "orders_table = 'orders'\n",
        "orders_var = Table(orders_table, metadata,\n",
        "                    Column(\"TRN_ID\",BigInteger,primary_key = True),\n",
        "                    Column(\"ORDER_ID\",BigInteger),\n",
        "                    Column(\"INVOICE_NUMBER\",String(100)),\n",
        "                    Column(\"CUSTOMER_ID\",BigInteger),\n",
        "                    Column(\"IDENTIFIER_TYPE\",String(100)),\n",
        "                    Column(\"MOBILE_NUMBER\",String(100)),\n",
        "                    Column(\"EMAIL_ID\",String(100)),\n",
        "                    Column(\"CUST_INVOICE_NUMBER\",String(100)),\n",
        "                    Column(\"STORE_ID\",String(100)),\n",
        "                    Column(\"INVOICE_DATE\",Date),\n",
        "                    Column(\"INVOICE_TIME\",String(100)),\n",
        "                    Column(\"QUANTITY\",Integer),\n",
        "                    Column(\"BASE_PRICE\",Double),\n",
        "                    Column(\"ITEM_LVL_MANUAL_DISCOUNT\",Integer),\n",
        "                    Column(\"ITEM_PROMO_DISCOUNT\",Integer),\n",
        "                    Column(\"BILL_PROMO_DISCOUNT\",Integer),\n",
        "                    Column(\"GRP_PROMO_DISCOUNT\",Integer),\n",
        "                    Column(\"INVOICE_DISCOUNT\",Integer),\n",
        "                    Column(\"NET_AMOUNT\",Double),\n",
        "                    Column(\"VAT_AMOUNT\",Integer),\n",
        "                    Column(\"SERVICE_TAX_AMOUNT\",Integer),\n",
        "                    Column(\"SWACHH_BHARAT_CESS\",Integer),\n",
        "                    Column(\"KRISHI_KALYAN_CESS\",Integer),\n",
        "                    Column(\"CGST_AMOUNT\",Double),\n",
        "                    Column(\"SGST_AMOUNT\",Double),\n",
        "                    Column(\"UTGST_AMOUNT\",Integer),\n",
        "                    Column(\"IGST_AMOUNT\",Integer),\n",
        "                    Column(\"CESS\",Double),\n",
        "                    Column(\"TOTAL_AMOUNT\",Double),\n",
        "                    Column(\"ROUND_OFF_VALUE\",Integer),\n",
        "                    Column(\"CASH_AMOUNT\",Double),\n",
        "                    Column(\"MANUAL_EDC_AMOUNT\",Integer),\n",
        "                    Column(\"CREDIT_CARD_AMOUNT\",Integer),\n",
        "                    Column(\"FOREIGN_CURRENCY_AMOUNT\",Integer),\n",
        "                    Column(\"AMOUNTPAIDBYEWALLET\",Double),\n",
        "                    Column(\"LOYAL_APPLICABLE_AMOUNT\",Double),\n",
        "                    Column(\"CREATE_TMSTP\",DateTime),\n",
        "                    Column(\"CASH_REFUND_IDENTIFIER\",Integer),\n",
        "                    Column(\"INVOICE_OFFER_ID\",String(100)),\n",
        "                    Column(\"INVOICE_OFFER_NAME\",String(100)),\n",
        "                    Column(\"MSR_MODE_FOR_OFFER_REDEEM\",String(100)),\n",
        "                    Column(\"PAYMENT_TENDER_TYPE\",String(100)),\n",
        "                    Column(\"PAYMENT_TENDER_CHANNEL\",String(100)),\n",
        "                    Column(\"PAYMENT_TENDER_AMOUNT\",Float),\n",
        "                    Column(\"PRINTED_INVOICE_NO\",String(100)),\n",
        "                    Column(\"TRN_STATUS\",String(100)),\n",
        "                    Column(\"TRN_ERR_MSG\",String(100)),\n",
        "                    Column(\"TRN_IND_ID\",Integer),\n",
        "                    Column(\"TRN_ORG_ID\",Integer),\n",
        "                    Column(\"TRN_PRG_ID\",Integer),\n",
        "                    Column(\"TRN_TRANSACTION_DATE\",Date),\n",
        "                    Column(\"TRN_TRANSACTION_TYPE\",String(100)),\n",
        "                    Column(\"TOTAL_PURCHASE_AMOUNT\",Integer),\n",
        "                    Column(\"TRN_REGISTRATION_DATE\",DateTime),\n",
        "                    Column(\"TRN_ERR_CODE\",String(100)),\n",
        "                    Column(\"TRN_PRM_CODE\",Integer),\n",
        "                    Column(\"TRN_SERVICE_CODE\",String(100)),\n",
        "                    Column(\"TRN_PAID_AMOUNT\",Integer),\n",
        "                    Column(\"TRN_THREADLOGID\",String(100)),\n",
        "                    Column(\"TRN_REVERSEFLAG\",String(100)),\n",
        "                    Column(\"TRN_UPDATE_TMSTP\",DateTime),\n",
        "                    Column(\"CREATE_DATE\",DateTime),\n",
        "                    Column(\"UPDATE_DATE\",DateTime),\n",
        "                    Column(\"UPDATE_USER\",String(100)),\n",
        "                    Column(\"CREATE_USER\",String(100)),\n",
        "                    Column(\"POINTS_EARNED\",Double),\n",
        "                    Column(\"POINTS_REDEEMED\",Double),\n",
        "                    Column(\"ALLOCATED_POINTS\",Double),\n",
        "                    Column(\"REDEEMED_POINTS\",Double),\n",
        "                    Column(\"ORDER_SOURCE_EXT_ID\",String(100)),\n",
        "                    Column(\"REV_ORDER_ID\",BigInteger),\n",
        "                    Column(\"REV_INVOICE_NUMBER\",String(100)),\n",
        "                    Column(\"REV_REVERSAL_TYPE\",String(100)),\n",
        "                    Column(\"REV_REVERSAL_AMOUNT\",Double),\n",
        "                    Column(\"REV_RETURN_DATE\",Date),\n",
        "                    Column(\"REV_RETURN_POINTS\",Double),\n",
        "                    Column(\"INVOICE_DATE_FORMATTED\",DateTime),\n",
        "                    Column(\"REV_STORE_ID\",String(100)),\n",
        "                    Column(\"COUPON_REDEEMED\",String(100)),\n",
        "                    Column(\"COUPON_DISCOUNT\",Double),\n",
        "                    Column(\"REV_REVERSED_POINTS\",Double),\n",
        "                    Column(\"EXT_REF_REDEEM_ID\",String(100)),\n",
        "                    Column(\"EMP_DISCOUT\",Double),\n",
        "                    Column(\"REWARD_FASHION\",Double),\n",
        "                    Column(\"REWARD_CONNECT\",Double),\n",
        "                    Column(\"REWARD_HYPERMARKET\",Double),\n",
        "                    Column(\"REWARD_CELEBRATE\",Double),\n",
        "                    Column(\"TRN_REWARD_UNIT\",String(100))\n",
        "            )\n"
      ]
    },
    {
      "cell_type": "code",
      "execution_count": null,
      "id": "0cb2f3da-4057-4139-9855-9eaf6ee8119c",
      "metadata": {
        "id": "0cb2f3da-4057-4139-9855-9eaf6ee8119c",
        "outputId": "59f31cb7-4ebb-4c60-90cf-2954a1f48e98"
      },
      "outputs": [
        {
          "name": "stdout",
          "output_type": "stream",
          "text": [
            "Index(['TRN_ID', 'ORDER_ID', 'INVOICE_NUMBER', 'CUSTOMER_ID',\n",
            "       'IDENTIFIER_TYPE', 'MOBILE_NUMBER', 'EMAIL_ID', 'CUST_INVOICE_NUMBER',\n",
            "       'STORE_ID', 'INVOICE_DATE', 'INVOICE_TIME', 'QUANTITY', 'BASE_PRICE',\n",
            "       'ITEM_LVL_MANUAL_DISCOUNT', 'ITEM_PROMO_DISCOUNT',\n",
            "       'BILL_PROMO_DISCOUNT', 'GRP_PROMO_DISCOUNT', 'INVOICE_DISCOUNT',\n",
            "       'NET_AMOUNT', 'VAT_AMOUNT', 'SERVICE_TAX_AMOUNT', 'SWACHH_BHARAT_CESS',\n",
            "       'KRISHI_KALYAN_CESS', 'CGST_AMOUNT', 'SGST_AMOUNT', 'UTGST_AMOUNT',\n",
            "       'IGST_AMOUNT', 'CESS', 'TOTAL_AMOUNT', 'ROUND_OFF_VALUE', 'CASH_AMOUNT',\n",
            "       'MANUAL_EDC_AMOUNT', 'CREDIT_CARD_AMOUNT', 'FOREIGN_CURRENCY_AMOUNT',\n",
            "       'AMOUNTPAIDBYEWALLET', 'LOYAL_APPLICABLE_AMOUNT', 'CREATE_TMSTP',\n",
            "       'CASH_REFUND_IDENTIFIER', 'INVOICE_OFFER_ID', 'INVOICE_OFFER_NAME',\n",
            "       'MSR_MODE_FOR_OFFER_REDEEM', 'PAYMENT_TENDER_TYPE',\n",
            "       'PAYMENT_TENDER_CHANNEL', 'PAYMENT_TENDER_AMOUNT', 'PRINTED_INVOICE_NO',\n",
            "       'TRN_STATUS', 'TRN_ERR_MSG', 'TRN_IND_ID', 'TRN_ORG_ID', 'TRN_PRG_ID',\n",
            "       'TRN_TRANSACTION_DATE', 'TRN_TRANSACTION_TYPE', 'TOTAL_PURCHASE_AMOUNT',\n",
            "       'TRN_REGISTRATION_DATE', 'TRN_ERR_CODE', 'TRN_PRM_CODE',\n",
            "       'TRN_SERVICE_CODE', 'TRN_PAID_AMOUNT', 'TRN_THREADLOGID',\n",
            "       'TRN_REVERSEFLAG', 'TRN_UPDATE_TMSTP', 'CREATE_DATE', 'UPDATE_DATE',\n",
            "       'UPDATE_USER', 'CREATE_USER', 'POINTS_EARNED', 'POINTS_REDEEMED',\n",
            "       'ALLOCATED_POINTS', 'REDEEMED_POINTS', 'ORDER_SOURCE_EXT_ID',\n",
            "       'REV_ORDER_ID', 'REV_INVOICE_NUMBER', 'REV_REVERSAL_TYPE',\n",
            "       'REV_REVERSAL_AMOUNT', 'REV_RETURN_DATE', 'REV_RETURN_POINTS',\n",
            "       'INVOICE_DATE_FORMATTED', 'REV_STORE_ID', 'COUPON_REDEEMED',\n",
            "       'COUPON_DISCOUNT', 'REV_REVERSED_POINTS', 'EXT_REF_REDEEM_ID',\n",
            "       'EMP_DISCOUT', 'REWARD_FASHION', 'REWARD_CONNECT', 'REWARD_HYPERMARKET',\n",
            "       'REWARD_CELEBRATE', 'TRN_REWARD_UNIT'],\n",
            "      dtype='object')\n",
            "Data is Loaded into orders table\n"
          ]
        }
      ],
      "source": [
        "try:\n",
        "    data=pd.read_csv(\"orders_data.csv\").drop_duplicates()\n",
        "    #print(data)\n",
        "    print(data.columns)\n",
        "    data.pop('INVOICE_DATE_FORMATTED')\n",
        "    del data['TRN_ID']\n",
        "    data.insert(0,'TRN_ID',None)\n",
        "    data.to_sql(orders_table, con= uat_connection, index=False, if_exists='append')\n",
        "    print(f\"Data is Loaded into {orders_table} table\")\n",
        "\n",
        "except Exception as e:\n",
        "    raise Exception(str(e))"
      ]
    },
    {
      "cell_type": "code",
      "execution_count": null,
      "id": "a192b2cd-ea8c-43f2-a20a-48f0a7c82dee",
      "metadata": {
        "id": "a192b2cd-ea8c-43f2-a20a-48f0a7c82dee"
      },
      "outputs": [],
      "source": []
    }
  ],
  "metadata": {
    "kernelspec": {
      "display_name": "Python 3 (ipykernel)",
      "language": "python",
      "name": "python3"
    },
    "language_info": {
      "codemirror_mode": {
        "name": "ipython",
        "version": 3
      },
      "file_extension": ".py",
      "mimetype": "text/x-python",
      "name": "python",
      "nbconvert_exporter": "python",
      "pygments_lexer": "ipython3",
      "version": "3.12.2"
    },
    "colab": {
      "provenance": [],
      "include_colab_link": true
    }
  },
  "nbformat": 4,
  "nbformat_minor": 5
}